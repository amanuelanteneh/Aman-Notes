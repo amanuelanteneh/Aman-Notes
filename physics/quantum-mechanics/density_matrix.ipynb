{
 "cells": [
  {
   "cell_type": "code",
   "execution_count": 1,
   "metadata": {
    "tags": [
     "hide-input"
    ]
   },
   "outputs": [],
   "source": [
    "import sympy\n",
    "from sympy import Matrix, sqrt, latex, Trace, Rational\n",
    "from IPython.display import display, Math\n",
    "from sympy import conjugate as conj\n",
    "\n",
    "# computational basis states\n",
    "ket_0 = Matrix([ [1], [0] ])\n",
    "ket_1 = Matrix([ [0], [1] ])\n",
    "bra_0 = conj( ket_0.T )\n",
    "bra_1 = conj( ket_1.T )\n",
    "\n",
    "# Hadamard basis states\n",
    "ket_p = Matrix([ [1 / sqrt(2)], [1 / sqrt(2)] ])\n",
    "ket_m = Matrix([ [1 / sqrt(2)], [-1 / sqrt(2)] ])\n",
    "bra_p = conj( ket_p.T )\n",
    "bra_m = conj( ket_m.T )"
   ]
  },
  {
   "cell_type": "markdown",
   "metadata": {},
   "source": [
    "# Density matrix\n",
    "\n",
    "In quantum mechanics the state of a system can be specified by a column vector in a complex Hilbert space called a ket and denoted in Dirac notation as \n",
    "$\\ket{\\psi}$. The unitary evolution of this state is given by the famous Schrödinger equation\n",
    "\n",
    "$$\n",
    "i\\hbar \\frac{d}{dt}\\ket{\\psi(t)} = H \\ket{\\psi(t)}.\n",
    "$$\n",
    "\n",
    "\n",
    "There is also another way of denoting the state of the system called the density matrix (also called the density operator) which is defined as $\\rho = \\ket{\\psi}\\bra{\\psi}$. The unitary evolution of the state is now given by the von Neumann equation (also known as the Liouville–von Neumann equation) {cite:p}`benenti2019principles`\n",
    "\n",
    "$$\n",
    "\\begin{align*}\n",
    "i\\hbar \\frac{d}{dt}\\rho(t) &= [H, \\rho(t)] \\\\\n",
    "                        &= H\\rho(t) - \\rho(t) H.\n",
    "\\end{align*}\n",
    "$$\n",
    "\n",
    "The evolution of a density matrix under a unitary operator $U$ is given by \n",
    "\n",
    "$$\n",
    "\\rho' = U\\rho U^\\dagger.\n",
    "$$\n",
    "\n",
    "This makes sense given the definition of the density matrix. If you evolve a ket under a unitary $U$ you have\n",
    "\n",
    "$$\n",
    "\\ket{\\psi'} = U\\ket{\\psi}.\n",
    "$$\n",
    "\n",
    "The density matrix of this state is then given by\n",
    "\n",
    "$$\n",
    "\\rho = \\ket{\\psi'}\\bra{\\psi'} = U\\ket{\\psi}\\bra{\\psi}U^\\dagger.\n",
    "$$"
   ]
  },
  {
   "cell_type": "markdown",
   "metadata": {},
   "source": [
    "## Properties\n",
    "\n",
    "The density matrix has several interesting properties. While it's elements are in general complex numbers the diagonal elements are real with the $i$-th diagonal corresponding to the\n",
    "probability that the state is in the basis state $\\ket{i}$ when measured in the basis the density matrix is expressed in. Naturally this means that \n",
    "\n",
    "$$\n",
    "\\textrm{Tr}(\\rho) = 1.\n",
    "$$\n",
    "\n",
    "The density matrix is also Hermitian so\n",
    "\n",
    "$$\n",
    "\\rho = \\rho^\\dagger.\n",
    "$$\n",
    "\n",
    "It is also a non-negative operator meaning for and vector $\\ket{\\psi}$ in the Hilbert space $\\mathcal{H}$ \n",
    "\n",
    "$$\n",
    "\\bra{\\psi}\\rho\\ket{\\psi} \\geq 0.\n",
    "$$\n",
    "\n",
    "The expectation value of an operator $O$ that acts on the density matrix is given by \n",
    "\n",
    "$$\n",
    "\\langle O \\rangle = \\textrm{Tr}(O\\rho).\n",
    "$$\n",
    "\n",
    "If $O$ is a projector $P_n = \\ket{n}\\bra{n}$ corresponding to an eigen state $\\ket{n}$ of an observable then $\\langle O \\rangle$ corresponds to the probability that a measurement of that observable finds the state in the eigenstate $\\ket{n}$. For example if one has a spin-$\\frac{1}{2}$ particle in the state $\\ket{\\psi}=\\frac{1}{\\sqrt{2}}\\ket{0}+\\frac{1}{\\sqrt{2}}\\ket{1}$ then $\\textrm{Tr}(\\ket{0}\\bra{0}\\rho)$ gives the probability of the particle being in the state $\\ket{0}$ upon measurement in the $\\{\\ket{0}, \\ket{1}\\}$ basis. This is all analogous to the expression $\\bra{\\psi}O\\ket{\\psi}$ when working with kets and bras.\n",
    "\n",
    "Lastly the density matrix can be used to describe what are called 'mixed' state (also called statistical ensembles or statistical mixtures). That is to say we can write a state \n",
    "\n",
    "$$\n",
    "\\rho = \\sum_{p_i} p_i \\ket{\\psi_i}\\bra{\\psi_i}\n",
    "$$\n",
    "\n",
    "where $p_i$ is a probability, not an amplitude, which is the probability that the system is in the pure state $\\psi_i$.\n",
    "\n",
    "The purity of a state is given by\n",
    "\n",
    "$$\n",
    "\\textrm{Tr}(\\rho^2)\n",
    "$$\n",
    "\n",
    "and a pure state has $\\textrm{Tr}(\\rho^2)=1$ while a mixed state has $\\textrm{Tr}(\\rho^2)<1$.\n",
    "\n",
    "I have also seen it be useful to write the density matrix in terms of outer products of basis states\n",
    "\n",
    "$$\n",
    "\\rho = \\sum_{n}\\sum_m\\rho_{nm}\\ket{n}\\bra{m}\n",
    "$$\n",
    "\n",
    "where $\\rho_{nm}$ is the element of the density matrix at row $n$ column $m$.\n",
    "\n",
    "The density matrix is useful when one wants to study quantum systems in which we do not have complete information about the system {cite:p}`benenti2019principles`."
   ]
  },
  {
   "cell_type": "markdown",
   "metadata": {},
   "source": [
    "## Pure and mixed quantum states\n",
    "\n",
    "But what exactly does it mean to not have complete information about the system? I think the following example is useful for explaining this. Suppose we have a pair of qubits (e.g. two spin-$\\frac{1}{2}$ particles), qubit $A$ and qubit $B$, that we prepare in the Bell state \n",
    "\n",
    "$$\n",
    "\\begin{align*}\n",
    "\\ket{\\Phi^+} &= \\frac{1}{\\sqrt{2}}(\\ket{0}_A \\otimes \\ket{0}_B ) + \\frac{1}{\\sqrt{2}}(\\ket{1}_A \\otimes \\ket{1}_B ) \\\\\n",
    "&= \\frac{1}{\\sqrt{2}}\\ket{00} + \\frac{1}{\\sqrt{2}}\\ket{11} \n",
    "\\end{align*}\n",
    "$$\n",
    "\n",
    "which we know is an entangled state. Suppose we were to take qubit $B$ and simply \"throw it away\" or ignore it (and assume it does not interact with anything moving forward) and only consider qubit $A$, this is equivalent to taking the partial trace of the system over qubit $B$ which is covered in the next page. How can we specify the state of qubit $A$ now? In this case we are working with *incomplete* information about the new system (qubit $A$). This is because it is still *entangled* with qubit $B$ and thus it is not possible to *fully* describe the state of qubit $A$ without making reference to the state of qubit $B$. The reduced density matrix of qubit $A$ would therefore be a mixed state.\n",
    "\n",
    "A question you might have is: If we have a pure state \n",
    "\n",
    "$$\n",
    "\\ket{\\psi}= \\frac{1}{\\sqrt{2}}\\ket{0}+\\frac{1}{\\sqrt{2}}\\ket{1}\n",
    "$$ \n",
    "\n",
    "and the mixed state \n",
    "\n",
    "$$\n",
    "\\rho_M = \\frac{1}{2}\\ket{0}\\bra{0} + \\frac{1}{2}\\ket{1}\\bra{1}\n",
    "$$ \n",
    "\n",
    "what exactly is the difference between them?\n",
    "\n",
    "This was something that really confused me when I first learned about the density matrix formalism and it's actually another great way of explaining the difference between the pure and mixed states. \n",
    "This question came up for me because I was thinking about it from a measurement point of view. For example if you were to measure both states in the $\\{\\ket{0}, \\ket{1}\\}$ basis you would get one of the two basis states with equal probability i.e. $\\frac{1}{2}$. \n",
    "Lets look at the explicit density matrices using `SymPy` to see what we can learn. The pure states density matrix is"
   ]
  },
  {
   "cell_type": "code",
   "execution_count": 2,
   "metadata": {
    "tags": [
     "hide-input"
    ]
   },
   "outputs": [
    {
     "data": {
      "text/latex": [
       "$\\displaystyle \\rho_\\psi =\\ket{\\psi}\\bra{\\psi} = \\left[\\begin{matrix}\\frac{1}{2} & \\frac{1}{2}\\\\\\frac{1}{2} & \\frac{1}{2}\\end{matrix}\\right]$"
      ],
      "text/plain": [
       "<IPython.core.display.Math object>"
      ]
     },
     "metadata": {},
     "output_type": "display_data"
    }
   ],
   "source": [
    "rho_pure = ket_p*bra_p\n",
    "display(Math(r'\\rho_\\psi =\\ket{\\psi}\\bra{\\psi} = ' + latex(rho_pure)))"
   ]
  },
  {
   "cell_type": "markdown",
   "metadata": {},
   "source": [
    "and the mixed state density matrix is "
   ]
  },
  {
   "cell_type": "code",
   "execution_count": 3,
   "metadata": {
    "tags": [
     "hide-input"
    ]
   },
   "outputs": [
    {
     "data": {
      "text/latex": [
       "$\\displaystyle \\rho_M = \\frac{1}{2}\\ket{0}\\bra{0} + \\frac{1}{2}\\ket{1}\\bra{1} = \\left[\\begin{matrix}\\frac{1}{2} & 0\\\\0 & \\frac{1}{2}\\end{matrix}\\right]$"
      ],
      "text/plain": [
       "<IPython.core.display.Math object>"
      ]
     },
     "metadata": {},
     "output_type": "display_data"
    }
   ],
   "source": [
    "rho_mixed = Rational(1, 2)*ket_0*bra_0  + Rational(1, 2)*ket_1*bra_1\n",
    "display(Math(r'\\rho_M = \\frac{1}{2}\\ket{0}\\bra{0} + \\frac{1}{2}\\ket{1}\\bra{1} = ' + latex(rho_mixed)))"
   ]
  },
  {
   "cell_type": "markdown",
   "metadata": {},
   "source": [
    "We can see that while the occupation probabilities of the basis states $\\{\\ket{0}, \\ket{1}\\}$, given by the diagonals, for both systems are the same the pure state has non-zero *off-diagonal* elements. This is because the off-diagonal elements $\\rho_{ij}$, called *coherences*, of the density matrix correspond to interference (superposition) between the basis states $\\ket{i}$ and $\\ket{j}$ {cite:p}`benenti2019principles`. Therefore the crucial distinction between these two states is that one is a *quantum superposition* while the other is not. This illustrates the fundamental difference I was trying to get at earlier. In the case of the pure state we have *complete* information about it's state, since according to Bell's theorem quantum mechanics excludes the possibility of 'hidden variables', but in the case of the mixed state the situation is more akin to *classical uncertainty/ignorance* as we do not have complete information about the system. \n",
    "\n",
    "Yet another interesting distinction between these states is related to measurement. While it is true that we can not distinguish them when measuring in the standard computational basis $\\{\\ket{0}, \\ket{1}\\}$ if we instead decide to measure in the Hadamard basis \n",
    "\n",
    "$$\n",
    "\\{\\ket{+}, \\ket{-}\\} = \\{\\frac{1}{\\sqrt{2}}\\ket{0}+\\frac{1}{\\sqrt{2}}\\ket{1}, \\frac{1}{\\sqrt{2}}\\ket{0}-\\frac{1}{\\sqrt{2}}\\ket{1}\\}\n",
    "$$\n",
    "\n",
    "we can tell that we will find the pure state is in the state $\\ket{+}$ with probability $1.0$. However, using `SymPy` again, for the mixed state we have"
   ]
  },
  {
   "cell_type": "code",
   "execution_count": 4,
   "metadata": {
    "tags": [
     "hide-input"
    ]
   },
   "outputs": [
    {
     "data": {
      "text/latex": [
       "$\\displaystyle \\text{Tr}(\\ket{+}\\bra{+}\\rho_M) = \\frac{1}{2}$"
      ],
      "text/plain": [
       "<IPython.core.display.Math object>"
      ]
     },
     "metadata": {},
     "output_type": "display_data"
    },
    {
     "data": {
      "text/latex": [
       "$\\displaystyle \\text{Tr}(\\ket{-}\\bra{-}\\rho_M) = \\frac{1}{2}$"
      ],
      "text/plain": [
       "<IPython.core.display.Math object>"
      ]
     },
     "metadata": {},
     "output_type": "display_data"
    }
   ],
   "source": [
    "tr_p = Trace( ket_p*bra_p*rho_mixed ).simplify()\n",
    "tr_m = Trace( ket_m*bra_m*rho_mixed ).simplify()\n",
    "display(Math(r'\\text{Tr}(\\ket{+}\\bra{+}\\rho_M) = ' + latex(tr_p)))\n",
    "display(Math(r'\\text{Tr}(\\ket{-}\\bra{-}\\rho_M) = ' + latex(tr_m)))"
   ]
  },
  {
   "cell_type": "markdown",
   "metadata": {},
   "source": [
    "so not only are these states different, but the mixed state results in the same occupation probabilities for two different measurement bases!"
   ]
  },
  {
   "cell_type": "markdown",
   "metadata": {},
   "source": [
    "There is yet *another* way to examine the difference between mixed and pure states and that is by looking at the position, $\\hat{x}$, probability distributions, specifically the probability density functions (PDFs) since $x$ is a continuos random variable, of the two types of states. \n",
    "\n",
    "We can recover this PDF from the density matrix by computing \n",
    "\n",
    "$$\n",
    "\\begin{align*}\n",
    "\\bra{x}\\rho\\ket{x} &= \\bra{x}\\left(\\sum_{n}\\sum_m\\rho_{nm}\\ket{n}\\bra{m}\\right)\\ket{x} \\\\\n",
    "&= \\sum_{n}\\sum_m\\rho_{nm}\\braket{x|n}\\braket{m|x} \\\\\n",
    "&= \\sum_{n}\\sum_m\\rho_{nm}\\psi_n(x)\\psi_m^*(x) \\quad \\text{Since $\\braket{x|\\psi} \\equiv \\psi(x)$ and $\\braket{\\psi|x} \\equiv \\psi^*(x)$} \\\\\n",
    "\\end{align*}\n",
    "$$\n",
    "\n",
    "\n",
    "The proof for this is given in the note below."
   ]
  },
  {
   "cell_type": "markdown",
   "metadata": {},
   "source": [
    "```{note}\n",
    ":class: dropdown\n",
    "Recall that we state earlier that for a projector $P_n=\\ket{n}\\bra{n}$ the quantity $\\textrm{Tr}(P_n\\rho)$ gives the the probability that the state $\\rho$ is found to be in the eigenstate $\\ket{n}$ when measured the observable corresponding to the projector is measured {cite:p}`benenti2019principles`. So that means for the projector of the position eigenstate $\\ket{x}$, i.e. $P_x=\\ket{x}\\bra{x}$, $\\textrm{Tr}(\\ket{x}\\bra{x}\\rho)$ gives use the probability of finding the state is in the position eigenstate when measuring the position observable of $\\rho$. So we have\n",
    "\n",
    "$$\n",
    "\\begin{align*}\n",
    "\\textrm{Tr}(\\ket{x}\\bra{x}\\rho) &= \\textrm{Tr}(\\ket{x}\\bra{x}\\rho)\\\\\n",
    "&= \\textrm{Tr}\\left(\\ket{x}\\bra{x}\\sum_{n}\\sum_m\\rho_{nm}\\ket{n}\\bra{m}\\right) \\\\\n",
    "&= \\textrm{Tr}\\left(\\ket{x}\\left(\\sum_{n}\\sum_m\\rho_{nm}\\braket{x|n}\\bra{m}\\right)\\right) \\\\\n",
    "&= \\textrm{Tr}\\left(\\left(\\sum_{n}\\sum_m\\rho_{nm}\\braket{x|n}\\bra{m}\\right)\\ket{x}\\right)  \\quad \\text{Since Tr$(AB)=\\text{Tr}(BA)$}  \\\\\n",
    "&= \\textrm{Tr}\\left(\\sum_{n}\\sum_m\\rho_{nm}\\braket{x|n}\\braket{m|x}\\right) \\\\\n",
    "&= \\textrm{Tr}\\left(\\sum_{n}\\sum_m\\rho_{nm}\\psi_n(x)\\psi_m^*(x)\\right) \\\\\n",
    "&= \\sum_{n}\\sum_m\\rho_{nm}\\psi_n(x)\\psi_m^*(x) \\quad \\text{Since Tr$(a) = a$ if $a$ is a scalar and we know $\\rho_{nm}$, $\\psi_n(x)$ and $\\psi_x^*(x)$ are all (complex) scalars} \\\\\n",
    "\\end{align*}\n",
    "$$\n",
    "\n",
    "This is exactly the formula we got when we expanded the expression $\\bra{x}\\rho\\ket{x}$ above $\\blacksquare$\n",
    "\n",
    "```"
   ]
  },
  {
   "cell_type": "markdown",
   "metadata": {},
   "source": [
    "If we use this formula to derive the PDF over $x$ for $\\rho_\\psi$ we get\n",
    "\n",
    "$$\n",
    "\\begin{align*}\n",
    "p_\\psi(x) = \\bra{x}\\rho_\\psi\\ket{x} &= \\sum_{n}\\sum_m\\rho_{nm}\\braket{x|n}\\braket{m|x} \\\\\n",
    "&= \\frac{1}{2}\\braket{x|0}\\braket{0|x} + \\frac{1}{2}\\braket{x|0}\\braket{1|x} + \\frac{1}{2}\\braket{x|1}\\braket{0|x} + \\frac{1}{2}\\braket{x|1}\\braket{1|x} \\\\\n",
    "&= \\frac{1}{2}\\psi_0(x)\\psi_0^*(x) + \\frac{1}{2}\\psi_0(x)\\psi_1^*(x) + \\frac{1}{2}\\psi_1(x)\\psi_0^*(x) + \\frac{1}{2}\\psi_1(x)\\psi_1^*(x) \\\\\n",
    "&=\\left(\\frac{1}{\\sqrt{2}}\\psi_0(x) + \\frac{1}{\\sqrt{2}}\\psi_1(x)\\right)\\left(\\frac{1}{\\sqrt{2}}\\psi_0^*(x) + \\frac{1}{\\sqrt{2}}\\psi_1^*(x)\\right)\\\\\n",
    "&=\\left|\\frac{1}{\\sqrt{2}}\\psi_0(x) + \\frac{1}{\\sqrt{2}}\\psi_1(x)\\right|^2 = |\\psi(x)|^2\n",
    "\\end{align*}\n",
    "$$\n",
    "\n",
    "and for $\\rho_M$ we have\n",
    "\n",
    "$$\n",
    "\\begin{align*}\n",
    "p_M(x) = \\bra{x}\\rho\\ket{x} &= \\frac{1}{2}\\braket{x|0}\\braket{0|x} + \\frac{1}{2}\\braket{x|1}\\braket{1|x}\\\\\n",
    "&= \\frac{1}{2}\\psi_0(x)\\psi_0^*(x) + \\frac{1}{2}\\psi_1(x)\\psi_1^*(x) \\\\\n",
    "&= \\frac{1}{2}|\\psi_0(x)|^2 + \\frac{1}{2}|\\psi_1(x)|^2\n",
    "\\end{align*}\n",
    "$$\n",
    "\n",
    "we can see from the expression of $p_M(x)$ that it is a **mixture** of two PDFs i.e. the $x$ PDF of the basis state $\\ket{0}$ and the basis state $\\ket{1}$ hence the names statistical mixture and mixed state. However $p_\\psi(x)$ is *not* a mixture of PDF's. This really helps show how mixed states are really results of classical uncertainty or rather it maybe more accurate to say that mixed states have an added layer of uncertainty on top of the already **inherent and intrinsic** uncertainty of quantum systems i.e superpositions. The crucial distinction being, again, that this added layer of uncertainty is not something that is inherent and intrinsic to Nature but arises due to our own ignorance of the full dynamics/evolution of a quantum system.\n",
    "\n",
    "Another way to think about this is with respect to the definition of mixture distributions in probability and statistics. A mixture distribution arises when one has a probability distribution over multiple random variables. For example if one has \n",
    "\n",
    "$$\n",
    "p(x) = \\frac{1}{2}\\mathcal{N}(\\mu=5,\\sigma=0.1) + \\frac{1}{2}\\mathcal{N}(\\mu=10, \\sigma=0.1),\n",
    "$$\n",
    "\n",
    "which is a mixture of two Gaussian PDFs with mean 5 and 10 respectively and standard deviation 0.1, this amounts to selecting one of the two random variables with equal probability and then being left with a random variable with the Gaussian PDF that was randomly chosen."
   ]
  },
  {
   "cell_type": "markdown",
   "metadata": {},
   "source": [
    "## An experimental example \n",
    "\n",
    "In my research mixed states primarily come up when we are dealing with experimental imperfections i.e. photon loss in quantum optical experiments. This is also a good way to think about mixed states."
   ]
  },
  {
   "cell_type": "code",
   "execution_count": 5,
   "metadata": {},
   "outputs": [
    {
     "name": "stdout",
     "output_type": "stream",
     "text": [
      "Last updated: Sun Jul 07 2024\n",
      "\n",
      "Python implementation: CPython\n",
      "Python version       : 3.10.12\n",
      "IPython version      : 8.22.2\n",
      "\n",
      "sympy: 1.12\n",
      "\n"
     ]
    }
   ],
   "source": [
    "%load_ext watermark\n",
    "%watermark -n -u -v -iv"
   ]
  }
 ],
 "metadata": {
  "kernelspec": {
   "display_name": "Python 3",
   "language": "python",
   "name": "python3"
  },
  "language_info": {
   "codemirror_mode": {
    "name": "ipython",
    "version": 3
   },
   "file_extension": ".py",
   "mimetype": "text/x-python",
   "name": "python",
   "nbconvert_exporter": "python",
   "pygments_lexer": "ipython3",
   "version": "3.10.12"
  }
 },
 "nbformat": 4,
 "nbformat_minor": 2
}
