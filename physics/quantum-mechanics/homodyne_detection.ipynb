{
 "cells": [
  {
   "cell_type": "markdown",
   "metadata": {},
   "source": [
    "# Homodyne detection\n",
    "\n",
    "Homodyne detection is the most common Gaussian measurement used in continuous variable quantum information processing and it consists of\n",
    "measuring the quadrature $q$ or $p$ {cite:p}`weedbrook2012gaussian`."
   ]
  }
 ],
 "metadata": {
  "language_info": {
   "name": "python"
  }
 },
 "nbformat": 4,
 "nbformat_minor": 2
}
