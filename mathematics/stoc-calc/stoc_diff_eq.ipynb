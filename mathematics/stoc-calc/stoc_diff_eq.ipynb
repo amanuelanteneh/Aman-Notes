{
 "cells": [
  {
   "cell_type": "markdown",
   "metadata": {},
   "source": [
    "# Stochastic differential equations\n",
    "\n",
    "Go over this \"Itô\" name that always appears in stochastic ODE works."
   ]
  }
 ],
 "metadata": {
  "language_info": {
   "name": "python"
  }
 },
 "nbformat": 4,
 "nbformat_minor": 2
}
