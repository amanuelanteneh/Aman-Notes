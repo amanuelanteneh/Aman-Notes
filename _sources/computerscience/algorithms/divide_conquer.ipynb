{
 "cells": [
  {
   "cell_type": "markdown",
   "metadata": {},
   "source": [
    "# Divide & conquer"
   ]
  },
  {
   "cell_type": "markdown",
   "metadata": {},
   "source": [
    "Divide & conquer is a method for designing algorithms that solve problems by breaking the problem into smaller subproblems and then solving those smaller problems by dividing further until some base case is reached when the problem is small enough. Once the base case is reached we solve that subproblem and then use that solution to solve the larger problem by combining it with solutions to the other smaller subproblems we have solved. Merge sort is a nice example of this that we will go over. As you can probably guess from this description divide & conquer is very closely tied to the concept of recursion.\n"
   ]
  },
  {
   "cell_type": "markdown",
   "metadata": {},
   "source": [
    "## Solving recurrence relations\n",
    "\n",
    "A recurrence relation, which we'll call recurrence for short from now on, is an equation that describes a function in terms of it's values on other, usually smaller, arguments. In section 4.1 of {cite:p}`cormen2022introduction` they present a simple divide & conquer matrix multiplication of 2 $n\\times n$ matrices by breaking it into four subproblems of size $\\frac{n}{2}$ which then is solved recursively. They state that the run time of the algorthim is given by\n",
    "\n",
    "$$\n",
    "T(n) = 8T\\left(\\frac{n}{2}\\right) + \\Theta(1)\n",
    "$$"
   ]
  },
  {
   "cell_type": "markdown",
   "metadata": {},
   "source": [
    "```{note}\n",
    ":class: dropdown\n",
    "### Substitution\n",
    "\n",
    "Given the recurrence \n",
    "\n",
    "\n",
    "### Recursion-tree \n",
    "\n",
    "Given the recurrence \n",
    "\n",
    "### Master method\n",
    "\n",
    "Given the recurrence \n",
    "\n",
    "```"
   ]
  },
  {
   "cell_type": "markdown",
   "metadata": {},
   "source": [
    "## Scalar multiplication  \n",
    "\n",
    "The first problem divide & conquer methods are applied to in {cite:p}`dasgupta2008algorithms` is integer multiplication. "
   ]
  },
  {
   "cell_type": "markdown",
   "metadata": {},
   "source": [
    "## Square matrix multiplication\n",
    "\n",
    "Let $A=(a_{ik})$ and $B=(b_{jk})$ be $n\\times n$ matrices. The product $AB$ is given by (recall that this is equivalent to taking the dot product between the rows of $A$ with the columns of $B$)\n",
    "\n",
    "$$\n",
    "c_{ij} = \\sum_{k=1}^{n} a_{ik}b_{kj}\n",
    "$$"
   ]
  },
  {
   "cell_type": "markdown",
   "metadata": {},
   "source": [
    "## Merge sort"
   ]
  },
  {
   "cell_type": "markdown",
   "metadata": {},
   "source": [
    "## Fast Fourier transform (FFT)\n",
    "\n",
    "{cite:p}`dasgupta2008algorithms` explains how one can "
   ]
  },
  {
   "cell_type": "code",
   "execution_count": 1,
   "metadata": {},
   "outputs": [
    {
     "name": "stdout",
     "output_type": "stream",
     "text": [
      "Last updated: Sun Jul 14 2024\n",
      "\n",
      "Python implementation: CPython\n",
      "Python version       : 3.10.12\n",
      "IPython version      : 8.22.2\n",
      "\n"
     ]
    }
   ],
   "source": [
    "%load_ext watermark\n",
    "%watermark -n -u -v -iv"
   ]
  }
 ],
 "metadata": {
  "kernelspec": {
   "display_name": "Python 3",
   "language": "python",
   "name": "python3"
  },
  "language_info": {
   "codemirror_mode": {
    "name": "ipython",
    "version": 3
   },
   "file_extension": ".py",
   "mimetype": "text/x-python",
   "name": "python",
   "nbconvert_exporter": "python",
   "pygments_lexer": "ipython3",
   "version": "3.10.12"
  }
 },
 "nbformat": 4,
 "nbformat_minor": 2
}
