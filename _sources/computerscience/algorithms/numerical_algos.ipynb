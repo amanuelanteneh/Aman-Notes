{
 "cells": [
  {
   "cell_type": "markdown",
   "metadata": {},
   "source": [
    "# Number-theoretic algorithms"
   ]
  },
  {
   "cell_type": "markdown",
   "metadata": {},
   "source": [
    "## Modular arithmetic\n",
    "\n",
    "Modular arithmetic refers to arithmetic that is done using the *modulo* operator on the set of integers $\\mathbb{Z}$. For example we define \n",
    "\n",
    "\n",
    "$$\n",
    "x \\pmod N\n",
    "$$ \n",
    "\n",
    "to be equal to the remainder from dividing $x$ by $N$ i.e.\n",
    "\n",
    "$$\n",
    "\\text{if } x=qN+r \\text{ and } 0\\leq r < N \\\\\\text{ then } x \\pmod N = r.\n",
    "$$\n",
    "Another expression that will be important is \n",
    "\n",
    "$$\n",
    "x \\equiv y\\pmod N \\iff x\\pmod N = y\\pmod N \n",
    "$$\n",
    "\n",
    "which means $x$ and $y$ have the same remainder when divided by $N$ or equivalently $N$ divides the quantity $x-y$."
   ]
  },
  {
   "cell_type": "markdown",
   "metadata": {},
   "source": [
    "## Cryptography (RSA)"
   ]
  },
  {
   "cell_type": "markdown",
   "metadata": {},
   "source": [
    "## Practice problems"
   ]
  }
 ],
 "metadata": {
  "language_info": {
   "name": "python"
  }
 },
 "nbformat": 4,
 "nbformat_minor": 2
}
