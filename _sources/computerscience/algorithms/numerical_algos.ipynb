{
 "cells": [
  {
   "cell_type": "markdown",
   "metadata": {},
   "source": [
    "# Number-theoretic algorithms"
   ]
  },
  {
   "cell_type": "markdown",
   "metadata": {},
   "source": [
    "## Modular arithmetic\n",
    "\n",
    "Modular arithmetic refers to arithmetic that is done using the *modulo* operator on the set of integers $\\mathbb{Z}$ {cite:p}`dasgupta2008algorithms`. For example we define \n",
    "\n",
    "\n",
    "$$\n",
    "x \\pmod N\n",
    "$$ \n",
    "\n",
    "to be equal to the remainder from dividing $x$ by $N$ i.e.\n",
    "\n",
    "$$\n",
    "\\text{if } x=qN+r \\text{ and } 0\\leq r < N \\\\\\text{ then } x \\pmod N = r.\n",
    "$$\n",
    "Another concept that will be important is congruence, we say $x$ and $y$ are congruent modulo $N$ by writing\n",
    "\n",
    "$$\n",
    "x \\equiv y\\pmod N \\iff x\\pmod N = y\\pmod N \n",
    "$$\n",
    "\n",
    "which means $x$ and $y$ have the same remainder when divided by $N$ or equivalently $N$ divides the quantity $x-y$ or also equivalently $x$ and $y$ differ by a multiple of $N$. There are some other useful properties of modular arithmetic for example for addition and multiplication we have\n",
    "\n",
    "$$\n",
    "x+(y+z) \\equiv (x+y)+z \\pmod N \\qquad \\text{Associativity} \\\\\n",
    "xy \\equiv yx\\pmod N \\qquad \\text{Commutativity} \\\\\n",
    "x(y+z) \\equiv (xy+xz) \\pmod N \\qquad \\text{Distributivity} \\\\\n",
    "$$\n",
    "\n",
    "the last useful property we need is the substitution rule\n",
    "\n",
    "$$\n",
    "\\text{If } x\\equiv x' \\pmod N \\quad \\text{ and }  \\quad y\\equiv y' \\pmod N \\text{ then: } \\\\\n",
    "x+y\\equiv x'+y' \\equiv \\pmod N \\quad \\text{ and }  \\quad xy \\equiv x'y' \\pmod N.\n",
    "$$"
   ]
  },
  {
   "cell_type": "markdown",
   "metadata": {},
   "source": [
    "```{note}\n",
    ":class: dropdown\n",
    "Modular addition has other interesting properties as well that we won't make use of here. For example the set of integers $\\{0,1,2,3,...,n-1\\}$ together with the operations of addition modulo $n$, i.e. you add any two elements in the set then take the modulo $n$ of the result, form a *group* called the group of integers modulo $n$ and is denoted as $\\mathbb{Z}_n$ and this group has the interesting property that any cyclic group of order $n$ is isomorphic to it {cite:p}`pinter2010book`.\n",
    "```"
   ]
  },
  {
   "cell_type": "markdown",
   "metadata": {},
   "source": [
    "## Cryptography (RSA)"
   ]
  },
  {
   "cell_type": "markdown",
   "metadata": {},
   "source": [
    "## Practice problems"
   ]
  }
 ],
 "metadata": {
  "language_info": {
   "name": "python"
  }
 },
 "nbformat": 4,
 "nbformat_minor": 2
}
