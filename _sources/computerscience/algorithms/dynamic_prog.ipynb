{
 "cells": [
  {
   "cell_type": "markdown",
   "metadata": {},
   "source": [
    "# Dynamic programming"
   ]
  },
  {
   "cell_type": "markdown",
   "metadata": {},
   "source": [
    "Dynamic programming is similar to the divide and conquer approach except that the subproblems overlap i.e. the subproblems share the same subsubproblems. This method of solving problems typically is used in optimization problems, particularly optimal control problems, and was originally developed by Richard E. Bellman who is also famous for developing the closely related Bellman equation which is at the core of reinforcement learning {cite:p}`sutton2018reinforcement`.\n",
    "\n",
    "The key strategy is to store the solutions, in a hashtable for example, to the subproblems and then reuse the solution later if the same subproblem is encountered rather than recomputing the solution {cite:p}`cormen2022introduction`. Computing the $n$-th Fibonacci number is a common example problem that illustrates this."
   ]
  },
  {
   "cell_type": "markdown",
   "metadata": {},
   "source": [
    "## Rod cutting\n",
    "\n",
    "Let's go over the first example of an application of dynamic programming from {cite:p}`cormen2022introduction`.\n",
    "\n",
    "Suppose we have a rod of length $n \\in \\mathbb{Z^+}$ and we can sell the rod for a price $p_n$ which is the cash we get for selling a rod of length $n$. We can *also* cut the rod into $k$ parts of integer length $c_i$ such that (obviously)\n",
    "\n",
    "$$\n",
    "\\begin{align*}\n",
    "n = c_1 + c_2 + \\dots + c_k \\quad \\text{where $c_i \\in \\mathbb{Z^+}$}\n",
    "\\end{align*}\n",
    "$$\n",
    "\n",
    "and sell each part for the revenue $r_n = p_{c_1} + p_{c_2} + \\dots + p_{c_k}$ where again $p_{c_i}$ is the cash we get for selling a rod of integer length $c_i$. The caveat here is that there maybe certain ways to cut the rod such that we actually get more profit by selling the individually cut pieces instead of selling the uncut rod. \n",
    "Clearly this depends on the pricing for each length of rod.  Can we devise an algorithm that, given the length $n$ of the rod along with the prices $p_1, p_2,\\dots, p_n$ for selling a rod of length $1, 2, \\dots, n$ respectively, finds an (as there could be more than one I think) optimal way of cutting the rod such that we net the highest revenue?"
   ]
  },
  {
   "cell_type": "markdown",
   "metadata": {},
   "source": [
    "### Mathematical reasoning for solution\n",
    "\n",
    "Suppose that an optimal way of cutting the rod (optimal integer decomposition of $n$) cuts the rod into $k$ pieces for some integer $1 \\leq k \\leq n$. We denote this optimal decomposition as\n",
    "\n",
    "$$\n",
    "n_{opt} = c_1 + c_2 + \\dots + c_k\n",
    "$$\n",
    "\n",
    "where $c_i$ is the length of the $i$-th segment of the rod. The corresponding optimal revenue is thus\n",
    "\n",
    "$$\n",
    "r_{n_{opt}} = p_{c_1} + p_{c_2} + \\dots + p_{c_k}.\n",
    "$$\n",
    "\n",
    "In general we can write the optimal revenue $r_{n_{opt}}$ in terms of optimal revenues for rods of shorter length\n",
    "\n",
    "$$\n",
    "r_{n_{opt}} = \\max(p_n, r_{1_{opt}} + r_{(n-1)_{opt}}, r_{2_{opt}} + r_{(n-2)_{opt}}, \\dots, r_{(n-1)_{opt}} + r_{1_{opt}} )\n",
    "$$\n",
    "\n",
    "where $p_n$ is the revenue gained from selling the uncut rod of length $n$. The other $n-1$ arguments to $\\max$ correspond to the revenue gained from cutting the rod into two pieces of size $i$ and $n-i$ respectively $\\forall i \\in \\{1,2,\\dots,n-1\\}$ and then optimally cutting up the two resulting pieces of the rod further.\n",
    "\n",
    "If you think about it it makes sense that the optimal solution for this problem can be achieved by combining optimal solutions of smaller problems. For example when you start with the uncut rod the two options are either \n",
    "1) the uncut rod is already optimal to sell \n",
    "\n",
    "$\\Large{\\textbf{or}}$\n",
    "\n",
    "2) there is a way to cut it to get more revenue in which case you know you have to cut it into ***at least*** two pieces. \n",
    "\n",
    "After that point you have two new rods which you need to find the optimal cutting/decomposition of and you simply repeat the previous step again for each rod. The problem here is you need to cut the rod into two pieces in ***every*** possible way since you don't know ahead of time which way of cutting the rod into two pieces (i.e. which value of $i$) is optimal hence all the $n-1$ arguments to $\\max$. "
   ]
  },
  {
   "cell_type": "markdown",
   "metadata": {},
   "source": [
    "```{note}\n",
    ":class: dropdown\n",
    "When a problem can be solved like this by breaking it onto smaller parts, solving those smaller parts independently, and then combining those solutions to those smaller parts we say the problem exhibits **optimal sub-structure**.\n",
    "```"
   ]
  },
  {
   "cell_type": "code",
   "execution_count": 30,
   "metadata": {},
   "outputs": [
    {
     "name": "stdout",
     "output_type": "stream",
     "text": [
      "p = {1: 1, 2: 4, 3: 3, 4: 12, 5: 10, 6: 12, 7: 7, 8: 40, 9: 9, 10: 40, 11: 55, 12: 144, 13: 143, 14: 14, 15: 135, 16: 80, 17: 51, 18: 144, 19: 76, 20: 240, 21: 357, 22: 440, 23: 437, 24: 48, 25: 250, 26: 598, 27: 594, 28: 84, 29: 754, 30: 90, 31: 496, 32: 32, 33: 99, 34: 170, 35: 735, 36: 108, 37: 1184, 38: 114, 39: 858, 40: 680, 41: 943, 42: 1638, 43: 1677, 44: 1100, 45: 1890, 46: 1840, 47: 517, 48: 864, 49: 539, 50: 1400}\n"
     ]
    },
    {
     "ename": "KeyboardInterrupt",
     "evalue": "",
     "output_type": "error",
     "traceback": [
      "\u001b[0;31m---------------------------------------------------------------------------\u001b[0m",
      "\u001b[0;31mKeyboardInterrupt\u001b[0m                         Traceback (most recent call last)",
      "Cell \u001b[0;32mIn[30], line 24\u001b[0m\n\u001b[1;32m     22\u001b[0m p \u001b[38;5;241m=\u001b[39m {  i:i\u001b[38;5;241m*\u001b[39mrandint(\u001b[38;5;241m1\u001b[39m, i)  \u001b[38;5;28;01mfor\u001b[39;00m i \u001b[38;5;129;01min\u001b[39;00m \u001b[38;5;28mrange\u001b[39m(\u001b[38;5;241m1\u001b[39m, \u001b[38;5;241m51\u001b[39m)  }\n\u001b[1;32m     23\u001b[0m \u001b[38;5;28mprint\u001b[39m(\u001b[38;5;124mf\u001b[39m\u001b[38;5;124m\"\u001b[39m\u001b[38;5;124mp = \u001b[39m\u001b[38;5;132;01m{\u001b[39;00mp\u001b[38;5;132;01m}\u001b[39;00m\u001b[38;5;124m\"\u001b[39m)\n\u001b[0;32m---> 24\u001b[0m \u001b[38;5;28mprint\u001b[39m(\u001b[38;5;124m\"\u001b[39m\u001b[38;5;124mMax revenue is:\u001b[39m\u001b[38;5;124m\"\u001b[39m, \u001b[43mnaive_rod_cutting\u001b[49m\u001b[43m(\u001b[49m\u001b[43mp\u001b[49m\u001b[43m,\u001b[49m\u001b[43m \u001b[49m\u001b[38;5;241;43m40\u001b[39;49m\u001b[43m)\u001b[49m)\n",
      "Cell \u001b[0;32mIn[30], line 16\u001b[0m, in \u001b[0;36mnaive_rod_cutting\u001b[0;34m(p, n)\u001b[0m\n\u001b[1;32m     13\u001b[0m max_rev \u001b[38;5;241m=\u001b[39m \u001b[38;5;28mfloat\u001b[39m(\u001b[38;5;124m'\u001b[39m\u001b[38;5;124m-inf\u001b[39m\u001b[38;5;124m'\u001b[39m) \u001b[38;5;66;03m# initially set revenue to lowest possible number\u001b[39;00m\n\u001b[1;32m     15\u001b[0m \u001b[38;5;28;01mfor\u001b[39;00m i \u001b[38;5;129;01min\u001b[39;00m \u001b[38;5;28mrange\u001b[39m(\u001b[38;5;241m1\u001b[39m, n\u001b[38;5;241m+\u001b[39m\u001b[38;5;241m1\u001b[39m):\n\u001b[0;32m---> 16\u001b[0m     max_rev \u001b[38;5;241m=\u001b[39m \u001b[38;5;28mmax\u001b[39m(max_rev, p[i] \u001b[38;5;241m+\u001b[39m \u001b[43mnaive_rod_cutting\u001b[49m\u001b[43m(\u001b[49m\u001b[43mp\u001b[49m\u001b[43m,\u001b[49m\u001b[43m \u001b[49m\u001b[43mn\u001b[49m\u001b[38;5;241;43m-\u001b[39;49m\u001b[43mi\u001b[49m\u001b[43m)\u001b[49m) \n\u001b[1;32m     18\u001b[0m \u001b[38;5;28;01mreturn\u001b[39;00m max_rev\n",
      "Cell \u001b[0;32mIn[30], line 16\u001b[0m, in \u001b[0;36mnaive_rod_cutting\u001b[0;34m(p, n)\u001b[0m\n\u001b[1;32m     13\u001b[0m max_rev \u001b[38;5;241m=\u001b[39m \u001b[38;5;28mfloat\u001b[39m(\u001b[38;5;124m'\u001b[39m\u001b[38;5;124m-inf\u001b[39m\u001b[38;5;124m'\u001b[39m) \u001b[38;5;66;03m# initially set revenue to lowest possible number\u001b[39;00m\n\u001b[1;32m     15\u001b[0m \u001b[38;5;28;01mfor\u001b[39;00m i \u001b[38;5;129;01min\u001b[39;00m \u001b[38;5;28mrange\u001b[39m(\u001b[38;5;241m1\u001b[39m, n\u001b[38;5;241m+\u001b[39m\u001b[38;5;241m1\u001b[39m):\n\u001b[0;32m---> 16\u001b[0m     max_rev \u001b[38;5;241m=\u001b[39m \u001b[38;5;28mmax\u001b[39m(max_rev, p[i] \u001b[38;5;241m+\u001b[39m \u001b[43mnaive_rod_cutting\u001b[49m\u001b[43m(\u001b[49m\u001b[43mp\u001b[49m\u001b[43m,\u001b[49m\u001b[43m \u001b[49m\u001b[43mn\u001b[49m\u001b[38;5;241;43m-\u001b[39;49m\u001b[43mi\u001b[49m\u001b[43m)\u001b[49m) \n\u001b[1;32m     18\u001b[0m \u001b[38;5;28;01mreturn\u001b[39;00m max_rev\n",
      "    \u001b[0;31m[... skipping similar frames: naive_rod_cutting at line 16 (28 times)]\u001b[0m\n",
      "Cell \u001b[0;32mIn[30], line 16\u001b[0m, in \u001b[0;36mnaive_rod_cutting\u001b[0;34m(p, n)\u001b[0m\n\u001b[1;32m     13\u001b[0m max_rev \u001b[38;5;241m=\u001b[39m \u001b[38;5;28mfloat\u001b[39m(\u001b[38;5;124m'\u001b[39m\u001b[38;5;124m-inf\u001b[39m\u001b[38;5;124m'\u001b[39m) \u001b[38;5;66;03m# initially set revenue to lowest possible number\u001b[39;00m\n\u001b[1;32m     15\u001b[0m \u001b[38;5;28;01mfor\u001b[39;00m i \u001b[38;5;129;01min\u001b[39;00m \u001b[38;5;28mrange\u001b[39m(\u001b[38;5;241m1\u001b[39m, n\u001b[38;5;241m+\u001b[39m\u001b[38;5;241m1\u001b[39m):\n\u001b[0;32m---> 16\u001b[0m     max_rev \u001b[38;5;241m=\u001b[39m \u001b[38;5;28;43mmax\u001b[39;49m\u001b[43m(\u001b[49m\u001b[43mmax_rev\u001b[49m\u001b[43m,\u001b[49m\u001b[43m \u001b[49m\u001b[43mp\u001b[49m\u001b[43m[\u001b[49m\u001b[43mi\u001b[49m\u001b[43m]\u001b[49m\u001b[43m \u001b[49m\u001b[38;5;241;43m+\u001b[39;49m\u001b[43m \u001b[49m\u001b[43mnaive_rod_cutting\u001b[49m\u001b[43m(\u001b[49m\u001b[43mp\u001b[49m\u001b[43m,\u001b[49m\u001b[43m \u001b[49m\u001b[43mn\u001b[49m\u001b[38;5;241;43m-\u001b[39;49m\u001b[43mi\u001b[49m\u001b[43m)\u001b[49m\u001b[43m)\u001b[49m \n\u001b[1;32m     18\u001b[0m \u001b[38;5;28;01mreturn\u001b[39;00m max_rev\n",
      "\u001b[0;31mKeyboardInterrupt\u001b[0m: "
     ]
    }
   ],
   "source": [
    "from random import randint\n",
    "\n",
    "\"\"\"\n",
    "p: \n",
    "\n",
    "n: \n",
    "\"\"\"\n",
    "\n",
    "def naive_rod_cutting(p, n):\n",
    "    if n == 0:\n",
    "       return 0\n",
    "    \n",
    "    max_rev = float('-inf') # initially set revenue to lowest possible number\n",
    "    \n",
    "    for i in range(1, n+1):\n",
    "        max_rev = max(max_rev, p[i] + naive_rod_cutting(p, n-i)) \n",
    "    \n",
    "    return max_rev\n",
    "\n",
    "\n",
    "#p = { 1:1, 2:5, 3:8, 4:9, 5:10, 6:17, 7:17, 8:20, 9:24, 10:30,  }\n",
    "p = {  i:i*randint(1, i)  for i in range(1, 51)  }\n",
    "print(f\"p = {p}\")\n",
    "print(\"Max revenue is:\", naive_rod_cutting(p, 40))"
   ]
  },
  {
   "cell_type": "code",
   "execution_count": null,
   "metadata": {},
   "outputs": [],
   "source": [
    "def naive_rod_cutting(p, n, memo):\n",
    "    if n == 0:\n",
    "       return 0\n",
    "    \n",
    "    max_rev = float('-inf') # initially set revenue to lowest possible number\n",
    "    \n",
    "    for i in range(1, n+1):\n",
    "        max_rev = max(max_rev, p[i] + naive_rod_cutting(p, n-i)) \n",
    "    \n",
    "    return max_rev"
   ]
  },
  {
   "cell_type": "markdown",
   "metadata": {},
   "source": [
    "## $n$-th Fibonacci number"
   ]
  },
  {
   "cell_type": "code",
   "execution_count": null,
   "metadata": {},
   "outputs": [],
   "source": [
    "def nth_fibonacci(n):\n",
    "    pass"
   ]
  }
 ],
 "metadata": {
  "kernelspec": {
   "display_name": "Python 3",
   "language": "python",
   "name": "python3"
  },
  "language_info": {
   "codemirror_mode": {
    "name": "ipython",
    "version": 3
   },
   "file_extension": ".py",
   "mimetype": "text/x-python",
   "name": "python",
   "nbconvert_exporter": "python",
   "pygments_lexer": "ipython3",
   "version": "3.10.12"
  }
 },
 "nbformat": 4,
 "nbformat_minor": 2
}
