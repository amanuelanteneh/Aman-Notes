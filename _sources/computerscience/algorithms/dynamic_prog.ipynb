{
 "cells": [
  {
   "cell_type": "markdown",
   "metadata": {},
   "source": [
    "# Dynamic programming"
   ]
  },
  {
   "cell_type": "markdown",
   "metadata": {},
   "source": [
    "Dynamic programming is similar to the divide and conquer approach except that the subproblems overlap i.e. the subproblems share the same subsubproblems. This method of solving problems typically is used in optimization problems, particularly optimal control problems, and was originally developed by Richard E. Bellman who is also famous for developing the closely related Bellman equation which is at the core of reinforcement learning {cite:p}`sutton2018reinforcement`.\n",
    "\n",
    "The key strategy is to store the solutions, in a hashtable for example, to the subproblems and then reuse the solution later if the same subproblem is encountered rather than recomputing the solution {cite:p}`cormen2022introduction`. Computing the $n$-th Fibonacci number is a common example problem that illustrates this."
   ]
  },
  {
   "cell_type": "markdown",
   "metadata": {},
   "source": [
    "## Rod cutting\n",
    "\n",
    "Let's go over the first example of an application of dynamic programming from {cite:p}`cormen2022introduction`.\n",
    "\n",
    "Suppose we have a rod of length $n \\in \\mathbb{Z^+}$ and we can sell the rod for a price $p_n$ which is the cash we get for selling a rod of length $n$. We can *also* cut the rod into $k$ parts of integer length such that (obviously)\n",
    "\n",
    "$$\n",
    "\\begin{align*}\n",
    "n = c_0 + c_1 + \\dots + c_k \\quad \\text{where $c_i \\in \\mathbb{Z^+}$}\n",
    "\\end{align*}\n",
    "$$\n",
    "\n",
    "and sell each part for the price $p = p_{c_0} + p_{c_1} + \\dots + p_{c_k}$ where again $p_{c_i}$ is the cash we get for selling a rod of integer length $c_i$. The caveat here is that there maybe certain ways to cut the rod such that we actually get more profit by selling the individually cut pieces instead of selling the uncut rod. Clearly this depends on the pricing for each length of rod. But can we devise an algorithm that, given the length $n$ of the rod along with the prices $p_1, p_2,\\dots, p_n$ for selling a rod of length $1, 2, \\dots, n$ respectively, finds that optimal way of cutting the rod such that we net the highest cash? "
   ]
  },
  {
   "cell_type": "markdown",
   "metadata": {},
   "source": [
    "```{prf:algorithm} Rod Cutting\n",
    ":label: rod-cutting\n",
    "\n",
    "**Inputs** Given the length of the rod $n \\in \\mathbb{Z^+}$ and prices $p_1, p_2,\\dots, p_n$ for selling a rod of length $1, 2, \\dots, n$ respectively\n",
    "\n",
    "**Output** The integer decomposition of $n = c_0 + c_1 + \\dots + c_k$ where $c_i \\in \\mathbb{Z^+}$ that gives us the maximum cash\n",
    "\n",
    "1. $f(u, v) \\leftarrow 0$ for all edges $(u,v)$\n",
    "2. While there is a path $p$ from $s$ to $t$ in $G_{f}$ such that $c_{f}(u,v)>0$\n",
    "\tfor all edges $(u,v) \\in p$:\n",
    "\n",
    "\t1. Find $c_{f}(p)= \\min \\{c_{f}(u,v):(u,v)\\in p\\}$\n",
    "\t2. For each edge $(u,v) \\in p$\n",
    "\n",
    "\t\t1. $f(u,v) \\leftarrow f(u,v) + c_{f}(p)$ *(Send flow along the path)*\n",
    "\t\t2. $f(u,v) \\leftarrow f(u,v) - c_{f}(p)$ *(The flow might be \"returned\" later)*\n",
    "```"
   ]
  }
 ],
 "metadata": {
  "language_info": {
   "name": "python"
  }
 },
 "nbformat": 4,
 "nbformat_minor": 2
}
