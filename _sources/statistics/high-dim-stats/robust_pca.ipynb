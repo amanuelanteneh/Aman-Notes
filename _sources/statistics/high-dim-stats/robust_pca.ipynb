{
 "cells": [
  {
   "cell_type": "markdown",
   "metadata": {},
   "source": [
    "# Robust principal component analysis"
   ]
  },
  {
   "cell_type": "markdown",
   "metadata": {},
   "source": [
    "The concept of robust principal component analysis (robust PCA) was something I learned about in the graduate high-dimensional statistics course I took at Georgia Tech. The concept is presented in the chapter 5 of {cite:p}`wright2022high`."
   ]
  }
 ],
 "metadata": {
  "language_info": {
   "name": "python"
  }
 },
 "nbformat": 4,
 "nbformat_minor": 2
}
