{
 "cells": [
  {
   "cell_type": "markdown",
   "metadata": {},
   "source": [
    "# Inverse transform sampling\n",
    "\n",
    "Inverse transform sampling is a method for generating samples from an arbitrary random variable using only a uniform random number generator and the cumulative distribution function (CDF) of the random variable being sampled from."
   ]
  }
 ],
 "metadata": {
  "language_info": {
   "name": "python"
  }
 },
 "nbformat": 4,
 "nbformat_minor": 2
}
