{
 "cells": [
  {
   "cell_type": "markdown",
   "metadata": {},
   "source": [
    "# Group theory"
   ]
  },
  {
   "cell_type": "markdown",
   "metadata": {},
   "source": [
    "In mathematics a group $G := \\{S,*\\}$ consists of a set $S$ (such as the the set of all integers $\\mathbb{Z}$ ,  and a binary operation $*$ (such as addition $+$) where the following 4 criteria are met {cite:p}`gallian2021contemporary`: \n",
    "\n",
    "Closure: For any \\(a,b \\in G \\) we have \\( a*b \\in G\\). So the result of doing the binary operation on any 2 elements from the group will return an element that is also in the group.\n",
    "\n",
    "Associativity: For any $a,b,c \\in G$ we have $(a*b)*c  = a*(b*c)$.\n",
    "\n",
    "Identity: There exists an element $e \\in G$ such that for any $a \\in G$ we have\n",
    "         $a*e = a$.\n",
    "\n",
    "Inverse: For any element $a \\in G$ there exists an element $a^{-1} \\in G$ such that\n",
    "    $a*a^{-1} = e$. \n",
    "    \n",
    "The group $G \\coloneqq \\{\\mathbb{Z},+\\}$ satisfies all of these conditions where $e=0$, \\( a^{-1} = -a \\), the associative law holds for integers and the sum of two integers is also an integer.\n",
    "\n",
    "Group theory, particularly group theory for finite groups, has certain useful applications to condensed matter and quantum physics. "
   ]
  },
  {
   "cell_type": "markdown",
   "metadata": {},
   "source": [
    "What are $SU(2)$ and $SU(3)$? What is Gottesman–Knill theorem?"
   ]
  }
 ],
 "metadata": {
  "language_info": {
   "name": "python"
  }
 },
 "nbformat": 4,
 "nbformat_minor": 2
}
