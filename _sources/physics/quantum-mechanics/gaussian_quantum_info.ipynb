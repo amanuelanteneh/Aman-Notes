{
 "cells": [
  {
   "cell_type": "markdown",
   "metadata": {},
   "source": [
    "# Gaussian quantum information\n",
    "\n",
    "## Classical hardness of simulating arbitrary quantum systems\n",
    "Those that are familiar with the field of quantum computing know that the goal of building a quantum computer\n",
    "is to have a computer capable of performing computations that are intractable for a classical computer, modeled as a deterministic Turing machine, to compute. This is due to the exponential size of the matrices required to \n",
    "describe the dynamics of quantum systems. For instance for a two-level quantum system (a qubit), such as the polarization of a photon, the states of the photon are described by $2$-dimensional vectors and the evolution of the state of the photon is described by matrices of size $2 \\times 2$. \n",
    "However we wish to study systems of arbitrarily many particles and for a quantum system of $N$ qubits the state of the system is now described by $2^N$-dimensional vectors and their evolution is described by matrices of size $2^N \\times 2^N$. Clearly this implies the memory overhead of classically simulating such a system is $O(2^{2N})$ which is exponential in the size of the system. The time complexity of performing such a calculation, using the standard fast matrix multiplication algorithm (Strassen), is even worse at $O(2^{2.8074N})$.\n",
    "\n",
    "## Not all quantum systems are classically hard to simulate\n",
    "\n",
    "Remarkably there are some classes of quantum systems that **can** be simulated efficiently with a classical computer. One of these is the class of so called Gaussian quantum systems {cite:p}`bartlett2002efficient`. These are systems of quantum harmonic oscillators whose states are all initially Gaussian states and evolve under Gaussian operations and measurement. In this context Gaussian states are quantum states whose Wigner function is a Gaussian and Gaussian operations and measurements are those that preserve the Gaussianity of the Gaussian quantum states they act on {cite:p}`weedbrook2012gaussian`. \n",
    "\n",
    "These processes can be simulated classically because the covariances of the position and momentum of the harmonic oscillators, which can be compactly written as a covariance matrix $\\Sigma$, and the expectation values of position and momentum of the harmonic oscillators, which can be compactly written as a vector of means $\\mu$, provide *complete information* about the system. For a system of $M$ oscillators $\\Sigma$ is of size $2M \\times 2M$ and $\\mu$ is of size $2M$. The evolution of this system under Gaussian operations is described by $2M \\times 2M$ symplectic matrices and given by the evolution rules {cite:p}`adesso2014continuous`\n",
    "\n",
    "$$\n",
    "\\Sigma \\rightarrow S\\Sigma S^T, \\quad \\mu \\rightarrow S\\mu + d\n",
    "$$\n",
    "\n",
    "where $S$ is the $2M \\times 2M$ symplectic matrix representing the Gaussian operation and $d$ is a $2M$-dimensional vector of displacements that describes the displacement operation. Since the size of these matrices scales like $O(M^2)$ the computation is *polynomial* in the size of the system which is tractable. Note that a symplectic matrix is a real $2n \\times 2n$ matrix $A$ that satisfies \n",
    "\n",
    "$$\n",
    "A^T \\Omega A = \\Omega\n",
    "$$\n",
    "\n",
    "where  $\\Omega = \\begin{bmatrix} 0 & I_n \\\\\\ I_n & 0 \\end{bmatrix}$ and $I_n$ is the $n \\times n$ identity matrix."
   ]
  }
 ],
 "metadata": {
  "language_info": {
   "name": "python"
  }
 },
 "nbformat": 4,
 "nbformat_minor": 2
}
