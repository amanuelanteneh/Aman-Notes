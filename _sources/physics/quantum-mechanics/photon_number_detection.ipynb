{
 "cells": [
  {
   "cell_type": "markdown",
   "metadata": {},
   "source": [
    "# Photon number detection\n",
    "\n",
    "Photon number detection is a non-Gaussian measurement used in continuous variable quantum information and it consists \n",
    "of measuring the number of photons in a system thereby projecting the quantum state into an eigen state of the number operator $N = a^\\dagger a$ which are the Fock states {cite:p}`kok2010introduction`. These detectors were long sought after in the experimental realm and have in recent years been experimentally realized using the technology of superconducting transition edge sensors (TES) {cite:p}`lita2008counting`.  "
   ]
  },
  {
   "cell_type": "markdown",
   "metadata": {},
   "source": [
    "## Photon number detection in the Fock basis\n",
    "\n",
    "Photon number detection is pretty easy to simulate when working with density matrices in the Fock basis. You just need to extract the diagonal of the density matrix and that will give you the probability mass function (PMF) for the photon number observable (random variable)."
   ]
  },
  {
   "cell_type": "markdown",
   "metadata": {},
   "source": [
    "## Detector efficiency\n",
    "\n",
    "A problem "
   ]
  }
 ],
 "metadata": {
  "language_info": {
   "name": "python"
  }
 },
 "nbformat": 4,
 "nbformat_minor": 2
}
