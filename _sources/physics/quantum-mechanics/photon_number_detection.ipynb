{
 "cells": [
  {
   "cell_type": "markdown",
   "metadata": {},
   "source": [
    "# Photon number detection\n",
    "\n",
    "Photon number detection is a non-Gaussian measurement used in continuous variable quantum information and it consists \n",
    "of measuring the number of photons in a system thereby projecting the quantum state into an eigen state of the number operator $N = a^\\dagger a$ {cite:p}`weedbrook2012gaussian`."
   ]
  }
 ],
 "metadata": {
  "language_info": {
   "name": "python"
  }
 },
 "nbformat": 4,
 "nbformat_minor": 2
}
