{
 "cells": [
  {
   "cell_type": "markdown",
   "metadata": {},
   "source": [
    "# Density matrix\n",
    "\n",
    "In quantum mechanics the state of a system can be specified by a column vector in a complex Hilbert space called a ket and denoted in Dirac notation as \n",
    "$\\ket{\\psi}$. The unitary evolution of this state is given by the famous Schrödinger equation\n",
    "\n",
    "$$\n",
    "i\\hbar \\frac{d}{dt}\\ket{\\psi} = H \\ket{\\psi}.\n",
    "$$\n",
    "\n",
    "\n",
    "There is also another way of denoting the state of the system called the density matrix (also called the density operator) which is defined as $\\rho = \\ket{\\psi}\\bra{\\psi}$. The unitary evolution of the state is now given by the von Neumann equation (also known as the Liouville–von Neumann equation)\n",
    "\n",
    "$$\n",
    "i\\hbar \\frac{d\\rho}{dt} = [H, \\rho].\n",
    "$$\n",
    "\n",
    "The density matrix is useful when one wants to study quantum systems in which we do not have complete information about the system {cite:p}`benenti2019principles`. \n",
    "\n",
    "## Pure and mixed quantum states\n",
    "\n",
    "Mixed states: classical ignorance due to unwanted interactions between the quantum system and the environment."
   ]
  }
 ],
 "metadata": {
  "language_info": {
   "name": "python"
  }
 },
 "nbformat": 4,
 "nbformat_minor": 2
}
