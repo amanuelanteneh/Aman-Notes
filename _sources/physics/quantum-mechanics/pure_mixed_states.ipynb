{
 "cells": [
  {
   "cell_type": "markdown",
   "metadata": {},
   "source": [
    "# Density matrix\n",
    "\n",
    "In quantum mechanics the state of a system can be specified by a column vector in a complex Hilbert space called a ket and denoted in Dirac notation as \n",
    "$\\ket{\\psi}$. The unitary evolution of this state is given by the famous Schrödinger equation\n",
    "\n",
    "$$\n",
    "i\\hbar \\frac{d}{dt}\\ket{\\psi} = H \\ket{\\psi}.\n",
    "$$\n",
    "\n",
    "\n",
    "There is also another way of denoting the state of the system called the density matrix (also called the density operator) which is defined as $\\rho = \\ket{\\psi}\\bra{\\psi}$. The unitary evolution of the state is now given by the von Neumann equation (also known as the Liouville–von Neumann equation)\n",
    "\n",
    "$$\n",
    "i\\hbar \\frac{d\\rho}{dt} = [H, \\rho].\n",
    "$$\n",
    "\n",
    "The density matrix is useful when one wants to study quantum systems in which we do not have complete information about the system {cite:p}`benenti2019principles`. \n",
    "\n",
    "## Pure and mixed quantum states\n",
    "\n",
    "But what exactly does it mean to not have complete information about the system? I think the following example is useful in explaining what is meant by this. Suppose we have a pair of qubits, qubit $A$ and qubit $B$, that we prepare in the Bell state \n",
    "\n",
    "$$\n",
    "\\ket{\\Phi^+} = \\frac{1}{\\sqrt{2}}(\\ket{0}_A \\otimes \\ket{0}_B ) + \\frac{1}{\\sqrt{2}}(\\ket{1}_A \\otimes \\ket{1}_B ) = \\frac{1}{\\sqrt{2}}\\ket{00} + \\frac{1}{\\sqrt{2}}\\ket{11} \n",
    "$$\n",
    "\n",
    "which we know is an entangled state. Suppose we were to take qubit $B$ and simply \"throw it away\" or ignore it (and assume it does not interact with anything moving forward) and only consider qubit $A, this is equivalent to taking the partial trace of the system over qubit $B$ which is covered in the next page. How can we specicy the state of qubit $A$ now? In this case we are working with *incomplete* information of the new system (qubit $A$) because since it is entangled with qubit $B$ and thus is correlated with it\n",
    "\n",
    "Mixed states: classical ignorance due to unwanted interactions between the quantum system and the environment."
   ]
  }
 ],
 "metadata": {
  "language_info": {
   "name": "python"
  }
 },
 "nbformat": 4,
 "nbformat_minor": 2
}
