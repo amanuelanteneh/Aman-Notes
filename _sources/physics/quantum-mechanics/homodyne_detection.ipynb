{
 "cells": [
  {
   "cell_type": "markdown",
   "metadata": {},
   "source": [
    "# Homodyne detection\n",
    "\n",
    "Homodyne detection is the most common Gaussian measurement used in continuous variable quantum information processing and it consists of\n",
    "measuring the quadrature $q$ or $p$ {cite:p}`weedbrook2012gaussian`."
   ]
  },
  {
   "cell_type": "markdown",
   "metadata": {},
   "source": [
    "## Homodyne detection in the Fock basis\n",
    "\n",
    "### Some exploration \n",
    "Recall that in the Fock basis a general density matrix $\\rho$ can be expressed as\n",
    "\n",
    "$$\n",
    "\\rho = \\sum_{n}^\\infty\\sum_m^\\infty\\rho_{nm}\\ket{n}\\bra{m}\n",
    "$$\n",
    "\n",
    "where $\\rho_{nm}$ denotes the element of $\\rho$ in row $n$ column $m$. Also recall that if one has a superposition state $\\ket{\\Psi} = \\frac{1}{\\sqrt{2}}\\ket{0} + \\frac{1}{\\sqrt{2}}\\ket{1}$ the corresponding position wave function is given by\n",
    "\n",
    "$$\n",
    "\\Psi(x) =  \\braket{x|\\Psi} = \\frac{1}{\\sqrt{2}}\\braket{x|0} + \\frac{1}{\\sqrt{2}}\\braket{x|1} \\\\\n",
    "\\equiv \\frac{1}{\\sqrt{2}}\\psi_0(x) + \\frac{1}{\\sqrt{2}}\\psi_1(x).\n",
    "$$\n",
    "\n",
    "We can quickly verify that this wave function is normalized by computing \n",
    "\n",
    "$$\n",
    "\\begin{align}\n",
    "\\int^{\\infty}_{-\\infty} |\\Psi(x)|^2 &=  \\int^{\\infty}_{-\\infty} \\left|\\frac{1}{\\sqrt{2}}\\psi_0(x) + \\frac{1}{\\sqrt{2}}\\psi_1(x)\\right|^2dx\\\\\n",
    "&= \\int^{\\infty}_{-\\infty} \\left( \\frac{1}{\\sqrt{2}} \\psi_0(x) + \\frac{1}{\\sqrt{2}} \\psi_1(x)  \\right)\\left( \\frac{1}{\\sqrt{2}} \\psi_0^*(x) + \\frac{1}{\\sqrt{2}} \\psi_1^*(x)  \\right) dx \\quad \\text{Since $|z|^2=zz^*$} \\\\\n",
    "&=  \\int^{\\infty}_{-\\infty} \\frac{1}{2} \\left(  \\psi_0(x) +  \\psi_1(x)  \\right)\\left(  \\psi_0^*(x) + \\psi_1^*(x)  \\right) dx \\\\\n",
    "&= \\frac{1}{2} \\int^{\\infty}_{-\\infty}  \\psi_0(x)\\psi_0^*(x) + \\psi_0(x)\\psi_1^*(x) + \\psi_1(x)\\psi_0^*(x) + \\psi_1(x)\\psi_1^*(x)  dx \\\\\n",
    "&= \\frac{1}{2} \\int^{\\infty}_{-\\infty} |\\psi_0(x)|^2 + \\psi_0(x)\\psi_1^*(x) + \\psi_1(x)\\psi_0^*(x) + |\\psi_1(x)|^2 dx \\\\\n",
    "&= \\frac{1}{2} \\left( \\int^{\\infty}_{-\\infty} |\\psi_0(x)|^2 dx + \\int^{\\infty}_{-\\infty} \\psi_0(x)\\psi_1^*(x) dx + \\int^{\\infty}_{-\\infty} \\psi_1(x)\\psi_0^*(x) dx + \\int^{\\infty}_{-\\infty} |\\psi_1(x)|^2 dx\\right) \\\\\n",
    "&= \\frac{1}{2}(1 + \\braket{1|0} + \\braket{0|1} + 1)  \\quad \\text{Since $\\int^{\\infty}_{-\\infty} \\psi_n(x)\\psi_m^*(x) dx \\equiv \\braket{m|n} = \\braket{n|m}$ and $\\psi_1(x)$ and $\\psi_0(x)$ are normalized} \\\\\n",
    "&= \\frac{1}{2}(1 + 0 + 0 + 1) \\quad \\text{Since $\\ket{0}$ and $\\ket{1}$ are orthogonal} \\\\\n",
    "&= 1.\n",
    "\n",
    "\\end{align}\n",
    "$$\n"
   ]
  },
  {
   "cell_type": "markdown",
   "metadata": {},
   "source": [
    "Now what happens if we do \n",
    "\n",
    "$$\n",
    "\\bra{x}\\rho\\ket{x} = \\sum_{n}^\\infty\\sum_m^\\infty\\rho_{nm}\\braket{x|n}\\braket{m|x}\n",
    "$$\n",
    "\n",
    "where $\\rho = \\ket{\\Psi}\\bra{\\Psi}$ and $\\ket{\\Psi}$ is the same as above.\n",
    "\n",
    "Well the explicit density matrix is \n",
    "\n",
    "$$\n",
    "\\rho = \\ket{\\Psi}\\bra{\\Psi} = \\begin{bmatrix}1/2 & 1/2 \\\\\n",
    "                                 1/2 & 1/2\\end{bmatrix}\n",
    "$$\n",
    "\n",
    "so we have \n",
    "\n",
    "$$\n",
    "\\begin{align*}\n",
    "\\bra{x}\\rho\\ket{x} &= \\sum_{n}^\\infty\\sum_m^\\infty\\rho_{nm}\\braket{x|n}\\braket{m|x} \\\\\n",
    "&= \\frac{1}{2}\\braket{x|0}\\braket{0|x} + \\frac{1}{2}\\braket{x|0}\\braket{1|x} + \\frac{1}{2}\\braket{x|1}\\braket{0|x} + \\frac{1}{2}\\braket{x|1}\\braket{1|x} \\\\\n",
    "&= \\frac{1}{2}|\\psi_0(x)|^2 + \\frac{1}{2}\\psi_0(x)\\psi_1^*(x) + \\frac{1}{2}\\psi_1(x)\\psi_0^*(x) + \\frac{1}{2}|\\psi_1(x)|^2 \\\\\n",
    "&\\text{We can see that this expression is the same as the one in the integrand of Equation 5 from above so we have:}\\\\\n",
    "\\bra{x}\\rho\\ket{x}&= \\left|\\frac{1}{\\sqrt{2}}\\psi_0(x) + \\frac{1}{\\sqrt{2}}\\psi_1(x)\\right|^2 = |\\Psi(x)|^2 = p(x)\n",
    "\\end{align*}\n",
    "$$\n",
    "\n",
    "So it seems like when we take the expectation value of the density operator $\\rho$ with respect to the position eigenstate $\\ket{x}$ we get the probability distribution (PDF) of the state represented by $\\rho$ over $x$!\n",
    "\n",
    "But what if $\\rho$ is a mixed state such as \n",
    "\n",
    "$$\n",
    "\\rho = \\frac{1}{2}\\ket{0}\\bra{0} + \\frac{1}{2}\\ket{1}\\bra{1} = \\begin{bmatrix}1/2 & 0 \\\\\n",
    "                                 0 & 1/2\\end{bmatrix}\n",
    "$$\n",
    "\n",
    "omg will this mean we get a *mixture* of gaussians/PDFs??"
   ]
  }
 ],
 "metadata": {
  "language_info": {
   "name": "python"
  }
 },
 "nbformat": 4,
 "nbformat_minor": 2
}
