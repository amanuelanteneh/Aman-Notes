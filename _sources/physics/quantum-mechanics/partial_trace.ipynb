{
 "cells": [
  {
   "cell_type": "markdown",
   "metadata": {},
   "source": [
    "# Partial trace operator\n",
    "\n",
    "The partial trace is a operation that appears in many places in quantum information and computing. "
   ]
  }
 ],
 "metadata": {
  "language_info": {
   "name": "python"
  }
 },
 "nbformat": 4,
 "nbformat_minor": 2
}
